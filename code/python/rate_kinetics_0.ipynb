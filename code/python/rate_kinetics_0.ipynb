{
 "cells": [
  {
   "cell_type": "markdown",
   "metadata": {},
   "source": [
    "Creating the kinetic data curve fitting script"
   ]
  },
  {
   "cell_type": "markdown",
   "metadata": {},
   "source": [
    "Importing the data"
   ]
  },
  {
   "cell_type": "code",
   "execution_count": 6,
   "metadata": {},
   "outputs": [
    {
     "ename": "IndentationError",
     "evalue": "expected an indented block after function definition on line 36 (2117057563.py, line 44)",
     "output_type": "error",
     "traceback": [
      "\u001b[0;36m  Cell \u001b[0;32mIn[6], line 44\u001b[0;36m\u001b[0m\n\u001b[0;31m    def plot_data():\u001b[0m\n\u001b[0m    ^\u001b[0m\n\u001b[0;31mIndentationError\u001b[0m\u001b[0;31m:\u001b[0m expected an indented block after function definition on line 36\n"
     ]
    }
   ],
   "source": [
    "import pandas as pd\n",
    "import numpy as np\n",
    "import os\n",
    "\n",
    "\n",
    "#Import Data + Clean Data\n",
    "def importCleanData(file_name, sheet, columns):\n",
    "    data = pd.read_excel(file_name, sheet_name = sheet)\n",
    "    cleanData = data.loc[:, columns].dropna()\n",
    "    return cleanData\n",
    "\n",
    "testFile105 = importCleanData(\"VEGFA165_NRP1_0.5-8nM_Lu2023.xlsx\", \"sheet1\", [\"Time 0.5nM\", \"RU 0.5nM\"])\n",
    "\n",
    "#Function Defining\n",
    "\n",
    "def fit_functions_ssr_base(data):\n",
    "    yi = 0\n",
    "    yf = 0\n",
    "    kon = 0\n",
    "    return yf * (1 - np.exp(-kon * t)) + yi\n",
    "\n",
    "def fit_function_zero(data):\n",
    "    yi = 0\n",
    "    yf = 0\n",
    "    kon = 0\n",
    "    koff = 0\n",
    "    return (C / (kon - koff)) * (np.exp(-koff * t) - np.exp(-kon * t)) +yi\n",
    "\n",
    "def fit_function_ssr(data):\n",
    "    yi = 0\n",
    "    yf = 0\n",
    "    kon = 0\n",
    "    koff = 0\n",
    "    return yf * ((1 - D * math.exp(-kon * t)) + (D - 1) * math.exp(-koff * t)) + yi\n",
    "\n",
    "#Data Reporting\n",
    "\n",
    "def plot_data():\n",
    "    plt.scatter()\n",
    "    plt.plot()\n",
    "\n",
    "    plt.figure()\n",
    "    plt.title()\n",
    "    plt.show()\n",
    "\n",
    "def data_stats():\n",
    "    np.mean()\n",
    "    np.ptp()\n",
    "    np.std()\n",
    "\n"
   ]
  },
  {
   "cell_type": "markdown",
   "metadata": {},
   "source": [
    "Defining the functions"
   ]
  },
  {
   "cell_type": "code",
   "execution_count": null,
   "metadata": {},
   "outputs": [],
   "source": []
  },
  {
   "cell_type": "markdown",
   "metadata": {},
   "source": [
    "Reporting the data"
   ]
  },
  {
   "cell_type": "code",
   "execution_count": null,
   "metadata": {},
   "outputs": [],
   "source": []
  }
 ],
 "metadata": {
  "kernelspec": {
   "display_name": "Python 3",
   "language": "python",
   "name": "python3"
  },
  "language_info": {
   "codemirror_mode": {
    "name": "ipython",
    "version": 3
   },
   "file_extension": ".py",
   "mimetype": "text/x-python",
   "name": "python",
   "nbconvert_exporter": "python",
   "pygments_lexer": "ipython3",
   "version": "3.10.13"
  }
 },
 "nbformat": 4,
 "nbformat_minor": 2
}
