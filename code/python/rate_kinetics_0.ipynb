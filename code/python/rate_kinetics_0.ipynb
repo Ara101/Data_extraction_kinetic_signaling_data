{
 "cells": [
  {
   "cell_type": "markdown",
   "metadata": {},
   "source": [
    "Creating the kinetic data curve fitting script"
   ]
  },
  {
   "cell_type": "markdown",
   "metadata": {},
   "source": [
    "Importing the data"
   ]
  },
  {
   "cell_type": "code",
   "execution_count": 11,
   "metadata": {},
   "outputs": [
    {
     "name": "stdout",
     "output_type": "stream",
     "text": [
      "C:\\Users\\dhlpablo_m2\\Desktop\\Git\\Data_extraction_kinetic_signaling_data\\data\\train_data\\vegf_testdata\n",
      "C:\\Users\\dhlpablo_m2\\Desktop\\Git\\Data_extraction_kinetic_signaling_data\\data\\train_data\\vegf_testdata\n"
     ]
    }
   ],
   "source": [
    "import numpy as np\n",
    "import matplotlib.pyplot as plt\n",
    "from scipy.optimize import curve_fit\n",
    "import os\n",
    "import pandas as pd\n",
    "\n",
    "\n",
    "#Import Data + Clean Data\n",
    "def importCleanData(file_name, sheet, columns):\n",
    "    data = pd.read_excel(file_name, sheet_name = sheet)\n",
    "    cleanData = data.loc[:, columns].dropna()\n",
    "    return cleanData\n",
    "\n",
    "# Change the working directory \n",
    "print(os.getcwd()) # Prints the current working directory\n",
    "# Provide the new path here\n",
    "os.chdir('C:/Users/dhlpablo_m2/Desktop/Git/Data_extraction_kinetic_signaling_data/data/train_data/vegf_testdata') \n",
    "# Prints the new working directory\n",
    "print(os.getcwd())\n",
    "\n",
    "# Import Data\n",
    "testFile1 = pd.read_excel(\"VEGFA165_NRP1_0.5-8nM_Lu2023.xlsx\", sheet_name = \"sheet1\")\n",
    "testFile105 = importCleanData(\"VEGFA165_NRP1_0.5-8nM_Lu2023.xlsx\", \"sheet1\", [\"Time 0.5nM\", \"RU 0.5nM\"])\n"
   ]
  },
  {
   "cell_type": "markdown",
   "metadata": {},
   "source": [
    "Defining the functions"
   ]
  },
  {
   "cell_type": "code",
   "execution_count": 12,
   "metadata": {},
   "outputs": [],
   "source": [
    "# Fitting equation to Find the kon value\n",
    "\n",
    "def baseline_steadystate_response(data, y_initial, y_final, t,):\n",
    "    \"\"\"\n",
    "    Function to find the kon value from the data. \n",
    "    Assuming we know the baseline and the steady state response, we can find the kon value.\n",
    "    The equation is y(t) = y_final * (1 - exp(-kon * t)) + y_intial\n",
    "\n",
    "    Parameters\n",
    "    ----------\n",
    "    data : pandas dataframe\n",
    "        Dataframe containing the time and response values\n",
    "    y_intial : float\n",
    "        The baseline value of the response\n",
    "    y_final : float\n",
    "        The steady state value of the response\n",
    "    t : float\n",
    "        The time value\n",
    "\n",
    "    Returns\n",
    "    -------\n",
    "    function\n",
    "        The function that can be used to calculate the response\n",
    "    \"\"\"\n",
    "    return y_final * (1 - np.exp(-kon * t)) + y_initial"
   ]
  },
  {
   "cell_type": "code",
   "execution_count": 13,
   "metadata": {},
   "outputs": [],
   "source": [
    "def response_to_zero(data, C, y_initial, t):\n",
    "    \"\"\"\n",
    "    Function to find the kon and koff values from the data\n",
    "    Assuming we know that the response goes to zero\n",
    "\n",
    "    Parameters\n",
    "    ----------\n",
    "    data : pandas dataframe\n",
    "        Dataframe containing the time and response values\n",
    "    C : float\n",
    "        The initial rate of signaling\n",
    "    y_initial : float\n",
    "        The baseline value of the response\n",
    "    t : float\n",
    "        The time value\n",
    "    \n",
    "    Returns\n",
    "    -------\n",
    "    function\n",
    "        The function that can be used to calculate the response\n",
    "\n",
    "    \"\"\"\n",
    "    return (C / (kon - koff)) * (np.exp(-koff * t) - np.exp(-kon * t)) +y_initial\n"
   ]
  },
  {
   "cell_type": "code",
   "execution_count": 14,
   "metadata": {},
   "outputs": [],
   "source": [
    "\n",
    "def response_to_steady_state(data, y_initial, y_final, t):\n",
    "    \"\"\"\n",
    "    Function to find the kon and koff values from the data\n",
    "    Assuming we know the steady state response\n",
    "\n",
    "    Parameters\n",
    "    ----------\n",
    "    data : pandas dataframe\n",
    "        Dataframe containing thetime and response values\n",
    "    y_initial : float\n",
    "        The initial rate of signaling\n",
    "    y_final : float\n",
    "        The final rate of signaling\n",
    "    t : float\n",
    "        The time value\n",
    "    \n",
    "    Returns\n",
    "    -------\n",
    "    function\n",
    "        The function that can be used to calculate the response\n",
    "\n",
    "    \"\"\"\n",
    "    return y_final * ((1 - D * np.exp(-kon * t)) + (D - 1) * np.exp(-koff * t)) + y_initial"
   ]
  },
  {
   "cell_type": "code",
   "execution_count": 15,
   "metadata": {},
   "outputs": [],
   "source": [
    "# Typical association\n",
    "def typical_association(data, y_final, t, C):\n",
    "    \"\"\"\n",
    "    Function to find the kon and koff values from the data\n",
    "    Assuming it is a typical association function\n",
    "\n",
    "    Parameters\n",
    "    ----------\n",
    "    data : pandas dataframe\n",
    "        Dataframe containing thetime and response values\n",
    "    y_final : float\n",
    "        The final rate of signaling\n",
    "    t : float\n",
    "        The time value\n",
    "    C : float\n",
    "        The concentration of the substance\n",
    "    \n",
    "    Returns\n",
    "    -------\n",
    "    function\n",
    "        The function that can be used to calculate the response\n",
    "\n",
    "    \"\"\"\n",
    "    kd = koff/kon\n",
    "    return (y_final * C) / (kd + C) * (1 - 1 / np.exp(kon * C + koff) * t)"
   ]
  },
  {
   "cell_type": "code",
   "execution_count": 16,
   "metadata": {},
   "outputs": [],
   "source": [
    "# Typical dissociation\n",
    "def typical_dissociation(data, y_initial, t):\n",
    "    \"\"\"\n",
    "    Function to find the koff values from the data\n",
    "    Assuming it is a typical dissociation function\n",
    "\n",
    "    Parameters\n",
    "    ----------\n",
    "    data : pandas dataframe\n",
    "        Dataframe containing thetime and response values\n",
    "    y_initial : float\n",
    "        The initial rate of signaling\n",
    "    t : float\n",
    "        The time value\n",
    "    \n",
    "    Returns\n",
    "    -------\n",
    "    function\n",
    "        The function that can be used to calculate the response\n",
    "\n",
    "    \"\"\"\n",
    "    return y_initial * np.exp(-koff * t)"
   ]
  },
  {
   "cell_type": "code",
   "execution_count": 17,
   "metadata": {},
   "outputs": [],
   "source": [
    "# Fitting the data to the equation\n",
    "def fit_data(data, function, assumption = None):\n",
    "    \"\"\"\n",
    "    Function to fit the data to the function\n",
    "\n",
    "    Parameters\n",
    "    ----------\n",
    "    data : pandas dataframe\n",
    "        Dataframe containing the time and response values\n",
    "    function : function\n",
    "        The function that will be used to fit the data\n",
    "\n",
    "    Returns\n",
    "    -------\n",
    "    param_k\n",
    "        The parameters of the function\n",
    "    pcov_k  \n",
    "        The covariance of the parameters\n",
    "    \"\"\"\n",
    "    if assumption == \"baseline+steadystate\":\n",
    "        function = baseline_steadystate_response\n",
    "    elif assumption == \"response to zero\":\n",
    "        function == response_to_zero\n",
    "    elif assumption == \"response to steady state\":\n",
    "        function == response_to_steady_state\n",
    "    param_k, pcov_k = curve_fit(function, data[\"Time\"], data[\"Response\"])\n",
    "    return param_k, pcov_k"
   ]
  },
  {
   "cell_type": "markdown",
   "metadata": {},
   "source": [
    "Reporting the data"
   ]
  },
  {
   "cell_type": "code",
   "execution_count": 18,
   "metadata": {},
   "outputs": [],
   "source": [
    "#Data Reporting\n",
    "\n",
    "def plot_data():\n",
    "    plt.scatter()\n",
    "    plt.plot()\n",
    "\n",
    "    plt.figure()\n",
    "    plt.title()\n",
    "    plt.show()\n",
    "\n",
    "def data_stats():\n",
    "    np.mean()\n",
    "    np.ptp()\n",
    "    np.std()"
   ]
  }
 ],
 "metadata": {
  "kernelspec": {
   "display_name": "Python 3",
   "language": "python",
   "name": "python3"
  },
  "language_info": {
   "codemirror_mode": {
    "name": "ipython",
    "version": 3
   },
   "file_extension": ".py",
   "mimetype": "text/x-python",
   "name": "python",
   "nbconvert_exporter": "python",
   "pygments_lexer": "ipython3",
   "version": "3.10.11"
  }
 },
 "nbformat": 4,
 "nbformat_minor": 2
}
